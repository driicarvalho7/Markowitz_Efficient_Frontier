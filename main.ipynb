{
 "cells": [
  {
   "cell_type": "code",
   "execution_count": null,
   "metadata": {},
   "outputs": [],
   "source": [
    "!pip install yfinance --upgrade --no-cache-dir"
   ]
  },
  {
   "cell_type": "code",
   "execution_count": null,
   "metadata": {},
   "outputs": [],
   "source": [
    "import yfinance as yf\n",
    "import numpy as np\n",
    "import pandas as pd\n",
    "import matplotlib.pyplot as plt\n",
    "import seaborn as sns\n",
    "\n",
    "sns.set(style='whitegrid')"
   ]
  },
  {
   "cell_type": "code",
   "execution_count": null,
   "metadata": {},
   "outputs": [],
   "source": [
    "acoes = ['CSMG3.SA', 'KLBN11.SA', 'BBSE3.SA', 'VALE3.SA', 'TAEE11.SA', 'BBAS3.SA']\n",
    "\n",
    "ydata = yf.download(acoes, '2018-01-01', '2023-12-31', '1d');\n",
    "dados = ydata[\"Adj Close\"]\n",
    "\n",
    "nova_ordem = ['BBAS3.SA', 'BBSE3.SA', 'CSMG3.SA', 'TAEE11.SA', 'KLBN11.SA', 'VALE3.SA']\n",
    "dados = dados[nova_ordem]"
   ]
  },
  {
   "cell_type": "code",
   "execution_count": null,
   "metadata": {},
   "outputs": [],
   "source": [
    "dados = dados *100 / dados.iloc[0]\n",
    "display(dados)"
   ]
  },
  {
   "cell_type": "code",
   "execution_count": null,
   "metadata": {},
   "outputs": [],
   "source": [
    "dados_chg = dados.pct_change()\n",
    "dados_chg = dados_chg.fillna(0)"
   ]
  },
  {
   "cell_type": "code",
   "execution_count": null,
   "metadata": {},
   "outputs": [],
   "source": [
    "#Calculo da correlação dos dados\n",
    "dados_chg.corr()"
   ]
  },
  {
   "cell_type": "code",
   "execution_count": null,
   "metadata": {},
   "outputs": [],
   "source": [
    "#####################################################################################################\n",
    "#                                     ANALISE DE PORTIFÓLIO                                         #\n",
    "#####################################################################################################\n",
    "\n",
    "\n",
    "#                                a) GRAFICO DA FRONTEIRA EFICIENTE                                  #\n",
    "#                                b) CRIANDO O GRÁFICO DE DRAWDOWN                                   #\n",
    "#          c) A RENTABILIDADE ANUIZADA DOS ATIVOS QUE COMPÕE O PORTIFÓLIO E O PORTIFOLIO_1          #\n",
    "#          d) A VOLATILIDADE ANUIZADA DOS ATIVOS QUE COMPÕE O PORTIFÓLIO E O PORTIFOLIO_1           #"
   ]
  },
  {
   "cell_type": "code",
   "execution_count": null,
   "metadata": {},
   "outputs": [],
   "source": [
    "dados"
   ]
  },
  {
   "cell_type": "code",
   "execution_count": null,
   "metadata": {},
   "outputs": [],
   "source": [
    "port_pesos = [0, 0, 0.5, 0, 0.5, 0]\n",
    "dados['PORTIFOLIO_1'] = dados.dot(port_pesos)"
   ]
  },
  {
   "cell_type": "code",
   "execution_count": null,
   "metadata": {},
   "outputs": [],
   "source": [
    "# D)\n",
    "\n",
    "vol_aa = (dados_chg.std()*np.sqrt(252))*100\n",
    "print(\"VOLATILIDADE ANUIZADA:\\n\", vol_aa.round(2))"
   ]
  },
  {
   "cell_type": "code",
   "execution_count": null,
   "metadata": {},
   "outputs": [],
   "source": [
    "# B)\n",
    "\n",
    "ddown = pd.DataFrame()\n",
    "\n",
    "for ativo in dados.columns:\n",
    "  list = []\n",
    "  for ind in range(dados.count()[0]):\n",
    "    list.append((dados[ativo].iloc[ind]/dados[ativo].iloc[:ind+1].max()-1)*100)\n",
    "  ddown[ativo]=list\n",
    "\n",
    "ddown['Data']=dados.index.values\n",
    "ddown.set_index(keys = 'Data', inplace = True)\n",
    "\n",
    "#display(ddown)\n",
    "print(ddown.min())\n",
    "\n",
    "ddown[['CSMG3.SA', 'KLBN11.SA', 'PORTIFOLIO_1']].plot(figsize = (15,5));"
   ]
  },
  {
   "cell_type": "code",
   "execution_count": null,
   "metadata": {},
   "outputs": [],
   "source": [
    "dados=dados.drop(['PORTIFOLIO_1'], axis=1)\n",
    "dados_chg=dados_chg.drop(['PORTIFOLIO_1'], axis=1)"
   ]
  },
  {
   "cell_type": "code",
   "execution_count": null,
   "metadata": {},
   "outputs": [],
   "source": [
    "# A)\n",
    "\n",
    "def calc_ret_vol(ativos, ativos_chg, port_pesos):\n",
    "  port = ativos.dot(port_pesos)\n",
    "  port_chg =port.pct_change()\n",
    "  port_chg = port_chg.fillna(0)\n",
    "  ret = ((port.iloc[-1]/port.iloc[0])**(1/5))-1\n",
    "  vol = port_chg.std()*np.sqrt(252)\n",
    "  return ret, vol\n",
    "\n",
    "#Portfolio com 2 ativos: CSMG3 e KLBN11\n",
    "points = []\n",
    "min_vol_ret = [100, 0] #[vol, ret]\n",
    "port_pesos = [0, 0, 0, 0, 0, 0]\n",
    "for w in range(0, 101, 5):\n",
    "  ret, vol = calc_ret_vol(dados, dados_chg, [0, 0,  w/100, 0, (1-w/100), 0])\n",
    "  print(f\"Aloc:{round(w/100, 2):.2f} {round(1-(w/100),2):.2f} Ret:{round(ret, 3):.3f} Vol:{round(vol, 3):.3f}\")\n",
    "  points.append([ret, vol])\n",
    "  if vol < min_vol_ret[0]:\n",
    "    min_vol_ret[0] = vol\n",
    "    min_vol_ret[1] = ret\n",
    "    port_pesos[2] = w/100\n",
    "    port_pesos[4] = 1-w/100\n",
    "\n",
    "lp = np.array(points).T\n",
    "plt.scatter(lp[[1][:]],lp[[0][:]]);\n",
    "plt.ylabel(\"Retorno\");\n",
    "plt.xlabel(\"Volatilidade\");\n",
    "\n",
    "plt.scatter(vol_aa['CSMG3.SA'], ret_aa['CSMG3.SA'], color='red');\n",
    "plt.text(vol_aa['CSMG3.SA'], ret_aa['CSMG3.SA'], 'CSMG3');\n",
    "\n",
    "plt.scatter(vol_aa['KLBN11.SA'], ret_aa['KLBN11.SA'], color='red');\n",
    "plt.text(vol_aa['KLBN11.SA'], ret_aa['KLBN11.SA'], 'KLBN11');\n",
    "\n",
    "plt.scatter(min_vol_ret[0], min_vol_ret[1], color='green');\n",
    "plt.text(min_vol_ret[0], min_vol_ret[1], 'Min. Vol.');"
   ]
  }
 ],
 "metadata": {
  "language_info": {
   "name": "python"
  }
 },
 "nbformat": 4,
 "nbformat_minor": 2
}
